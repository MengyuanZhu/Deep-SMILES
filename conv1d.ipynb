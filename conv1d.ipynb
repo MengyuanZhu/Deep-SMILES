{
 "cells": [
  {
   "cell_type": "code",
   "execution_count": 1,
   "metadata": {},
   "outputs": [
    {
     "name": "stderr",
     "output_type": "stream",
     "text": [
      "Using TensorFlow backend.\n"
     ]
    }
   ],
   "source": [
    "from sklearn.model_selection import train_test_split\n",
    "import pandas as pd\n",
    "from __future__ import print_function\n",
    "\n",
    "from keras.preprocessing import sequence\n",
    "from keras.models import Sequential\n",
    "from keras.layers import Dense, Dropout, Activation\n",
    "from keras.layers import Embedding\n",
    "from keras.layers import Conv1D, GlobalMaxPooling1D\n",
    "from keras.datasets import imdb\n",
    "\n",
    "from keras.layers import LSTM"
   ]
  },
  {
   "cell_type": "code",
   "execution_count": 106,
   "metadata": {},
   "outputs": [
    {
     "name": "stdout",
     "output_type": "stream",
     "text": [
      "Loading data...\n",
      "data loaded\n"
     ]
    }
   ],
   "source": [
    "# set parameters:\n",
    "\n",
    "batch_size = 32\n",
    "embedding_dims = 50\n",
    "filters = 250\n",
    "kernel_size = 3\n",
    "hidden_dims = 250\n",
    "\n",
    "print('Loading data...')\n",
    "dataset = pd.read_csv('CYP1A2_fixpka.smi', sep= ' ', header=None)\n",
    "X_SMILES, y = dataset.iloc[:,:-1], dataset.iloc[:, -1]\n",
    "\n",
    "#Library of unique characters. The first element is not used for future padding\n",
    "char_lib=[\"ZMY\"]\n",
    "\n",
    "#Find characters of sequences and build a library\n",
    "for index, SMILESsequence in X_SMILES.iterrows():\n",
    "    for letter in SMILESsequence[0]:\n",
    "        if not letter in char_lib:            \n",
    "            char_lib.append(letter)\n",
    "#print(char_lib)\n",
    "\n",
    "X=[]\n",
    "#SMILES sequence to an array\n",
    "for index, SMILESsequence in X_SMILES.iterrows():\n",
    "    sequenceArray=[]\n",
    "    for letter in SMILESsequence[0]:\n",
    "        sequenceArray.append(char_lib.index(letter))\n",
    "    X.append(sequenceArray)\n",
    "    \n",
    "X=sequence.pad_sequences(X)\n",
    "\n",
    "X_train, X_test, y_train, y_test = train_test_split(X, y, test_size=0.2, random_state=428)\n",
    "\n",
    "print('data loaded')\n",
    "\n",
    "max_features = X_train.shape[1]\n",
    "maxlen = X_train.shape[1]"
   ]
  },
  {
   "cell_type": "code",
   "execution_count": 3,
   "metadata": {},
   "outputs": [
    {
     "name": "stdout",
     "output_type": "stream",
     "text": [
      "(11922, 226)\n"
     ]
    }
   ],
   "source": [
    "print(X_train.shape)"
   ]
  },
  {
   "cell_type": "code",
   "execution_count": 4,
   "metadata": {
    "collapsed": true
   },
   "outputs": [],
   "source": [
    "model = Sequential()\n",
    "\n",
    "# we start off with an efficient embedding layer which maps\n",
    "# our vocab indices into embedding_dims dimensions\n",
    "model.add(Embedding(max_features,\n",
    "                    embedding_dims,\n",
    "                    input_length=maxlen))\n",
    "model.add(Dropout(0.2))\n",
    "\n",
    "# we add a Convolution1D, which will learn filters\n",
    "# word group filters of size filter_length:\n",
    "model.add(Conv1D(filters=1000,\n",
    "                 kernel_size=7,\n",
    "                 padding='valid',\n",
    "                 activation='relu',\n",
    "                 strides=1))\n",
    "\n",
    "# we use max pooling:\n",
    "model.add(GlobalMaxPooling1D())\n",
    "\n",
    "# We add a vanilla hidden layer:\n",
    "model.add(Dense(hidden_dims))\n",
    "model.add(Dropout(0.2))\n",
    "\n",
    "model.add(Activation('relu'))\n",
    "\n",
    "# We project onto a single unit output layer, and squash it with a sigmoid:\n",
    "model.add(Dense(1))\n",
    "model.add(Activation('sigmoid'))\n",
    "\n",
    "model.compile(loss='binary_crossentropy',\n",
    "              optimizer='adam',\n",
    "              metrics=['accuracy'])"
   ]
  },
  {
   "cell_type": "code",
   "execution_count": 111,
   "metadata": {},
   "outputs": [],
   "source": [
    "from keras.callbacks import ModelCheckpoint\n",
    "import keras\n",
    "import numpy as np\n",
    "\n",
    "class CustomCallbacks(keras.callbacks.Callback):\n",
    "    def __init__(self, filename=\"CYP1A2_conv1.hdf5\", monitor='val_acc'):\n",
    "        self.filename = filename\n",
    "        self.monitor = monitor\n",
    "        if 'acc' in self.monitor or self.monitor.startswith('fmeasure') or 'val_acc' in self.monitor:\n",
    "                self.monitor_op = np.greater\n",
    "                self.best = -np.Inf\n",
    "        else:\n",
    "                self.monitor_op = np.less\n",
    "                self.best = np.Inf\n",
    "        \n",
    "    def on_train_begin(self, logs={}):        \n",
    "        self.losses = []\n",
    "        self.acc = []\n",
    "        self.val_acc =[]\n",
    "        self.val_losses=[]\n",
    "    def on_epoch_end(self, epoch, logs={}):\n",
    "        self.losses.append(logs.get('loss'))\n",
    "        self.acc.append(logs.get('acc'))\n",
    "        self.val_acc.append(logs.get('val_acc'))\n",
    "        self.val_losses.append(logs.get('val_loss'))   \n",
    "        print(\"acc:\" , logs.get('acc'), \n",
    "              \", loss: \" , logs.get('loss'),\n",
    "              \", val_acc: \" , logs.get('val_acc'),\n",
    "              \", val_loss: \" , logs.get('val_loss'))\n",
    "        \n",
    "        \n",
    "        current = logs.get(self.monitor)\n",
    "        if current is None:\n",
    "            warnings.warn('Can save best model only with %s available, '\n",
    "                                  'skipping.' % (self.monitor), RuntimeWarning)\n",
    "        else:\n",
    "            if self.monitor_op(current, self.best):\n",
    "                print('Epoch %05d: %s improved from %0.5f to %0.5f,'\n",
    "                                  ' saving model to %s'\n",
    "                                  % (epoch, self.monitor, self.best,\n",
    "                                     current, self.filename))\n",
    "                self.best = current                       \n",
    "                self.model.save(self.filename, overwrite=True)\n",
    "            else:\n",
    "                print('Epoch %05d: %s did not improve' %  (epoch, self.monitor))\n",
    "        \n",
    "        \n",
    "my_callbacks=CustomCallbacks()\n"
   ]
  },
  {
   "cell_type": "code",
   "execution_count": 112,
   "metadata": {},
   "outputs": [
    {
     "name": "stdout",
     "output_type": "stream",
     "text": [
      "acc: 0.972947486644 , loss:  0.0682885978585 , val_acc:  0.90020966155 , val_loss:  0.426420591787\n",
      "Epoch 00000: val_acc improved from -inf to 0.90021, saving model to CYP1A2_conv1.hdf5\n",
      "acc: 0.972632921991 , loss:  0.0628834712117 , val_acc:  0.888050336758 , val_loss:  0.478877697101\n",
      "Epoch 00001: val_acc did not improve\n",
      "acc: 0.975254288307 , loss:  0.0613415037013 , val_acc:  0.904402528919 , val_loss:  0.395097530363\n",
      "Epoch 00002: val_acc improved from 0.90021 to 0.90440, saving model to CYP1A2_conv1.hdf5\n",
      "acc: 0.975044575167 , loss:  0.0617168014241 , val_acc:  0.885115329075 , val_loss:  0.520485490373\n",
      "Epoch 00003: val_acc did not improve\n",
      "acc: 0.971374663415 , loss:  0.0694924040499 , val_acc:  0.88846962182 , val_loss:  0.493907629819\n",
      "Epoch 00004: val_acc did not improve\n",
      "acc: 0.974520302411 , loss:  0.0624296808 , val_acc:  0.896855373053 , val_loss:  0.398241888802\n",
      "Epoch 00005: val_acc did not improve\n",
      "acc: 0.97452030523 , loss:  0.0610394130928 , val_acc:  0.892662492438 , val_loss:  0.448422793572\n",
      "Epoch 00006: val_acc did not improve\n",
      "acc: 0.973471758775 , loss:  0.0673303032024 , val_acc:  0.893920347876 , val_loss:  0.475414005465\n",
      "Epoch 00007: val_acc did not improve\n",
      "acc: 0.976722251554 , loss:  0.0539109754143 , val_acc:  0.893081774252 , val_loss:  0.473023372126\n",
      "Epoch 00008: val_acc did not improve\n",
      "acc: 0.973681466252 , loss:  0.0676034502572 , val_acc:  0.889727484005 , val_loss:  0.514896446554\n",
      "Epoch 00009: val_acc did not improve\n"
     ]
    },
    {
     "data": {
      "text/plain": [
       "<keras.callbacks.History at 0x7fed6b093240>"
      ]
     },
     "execution_count": 112,
     "metadata": {},
     "output_type": "execute_result"
    }
   ],
   "source": [
    "model.fit(X_train, y_train,\n",
    "          batch_size=100,\n",
    "          epochs=10,\n",
    "          callbacks=[my_callbacks],\n",
    "          validation_split=0.2,\n",
    "          verbose=0)\n",
    "\n"
   ]
  },
  {
   "cell_type": "code",
   "execution_count": 113,
   "metadata": {},
   "outputs": [
    {
     "name": "stdout",
     "output_type": "stream",
     "text": [
      "2912/2981 [============================>.] - ETA: 0s"
     ]
    },
    {
     "data": {
      "text/plain": [
       "[0.50805164003574144, 0.89332438778933243]"
      ]
     },
     "execution_count": 113,
     "metadata": {},
     "output_type": "execute_result"
    }
   ],
   "source": [
    "y_score=model.predict_proba(X_test)\n",
    "model.evaluate(X_test, y_test, verbose=0)"
   ]
  },
  {
   "cell_type": "code",
   "execution_count": 117,
   "metadata": {},
   "outputs": [
    {
     "data": {
      "image/png": "[encoded data removed]",
      "text/plain": [
       "<matplotlib.figure.Figure at 0x7fed6b0bfcc0>"
      ]
     },
     "metadata": {},
     "output_type": "display_data"
    }
   ],
   "source": [
    "%matplotlib inline\n",
    "import matplotlib.pyplot as plt\n",
    "from sklearn.metrics import roc_curve, auc\n",
    "\n",
    "\n",
    "\n",
    "y_score_get_value=[]\n",
    "for item in y_score:\n",
    "    y_score_get_value.append(item[0])\n",
    "    \n",
    "fpr, tpr, _ = roc_curve(y_test, y_score_get_value)\n",
    "\n",
    "plt.figure()\n",
    "lw = 2\n",
    "plt.plot(fpr, tpr, color='darkorange',\n",
    "         lw=lw, label='ROC curve (area = %0.3f)' % auc(fpr,tpr))\n",
    "plt.plot([0, 1], [0, 1], color='navy', lw=lw, linestyle='--')\n",
    "plt.xlim([0.0, 1.0])\n",
    "plt.ylim([0.0, 1.05])\n",
    "plt.xlabel('False Positive Rate')\n",
    "plt.ylabel('True Positive Rate')\n",
    "plt.title('Receiver operating characteristic ')\n",
    "plt.legend(loc=\"lower right\")\n",
    "plt.savefig(\"roc.svg\", format=\"svg\")\n",
    "plt.show()\n",
    "\n",
    "\n"
   ]
  }
 ],
 "metadata": {
  "kernelspec": {
   "display_name": "Python 3",
   "language": "python",
   "name": "python3"
  },
  "language_info": {
   "codemirror_mode": {
    "name": "ipython",
    "version": 3
   },
   "file_extension": ".py",
   "mimetype": "text/x-python",
   "name": "python",
   "nbconvert_exporter": "python",
   "pygments_lexer": "ipython3",
   "version": "3.5.2"
  }
 },
 "nbformat": 4,
 "nbformat_minor": 2
}
