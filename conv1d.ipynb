{
 "cells": [
  {
   "cell_type": "code",
   "execution_count": 33,
   "metadata": {},
   "outputs": [],
   "source": [
    "\n",
    "from sklearn.model_selection import train_test_split\n",
    "import pandas as pd\n",
    "\n",
    "from keras.preprocessing import sequence\n",
    "from keras.models import Sequential\n",
    "from keras.layers import Dense, Dropout, Activation\n",
    "from keras.layers import Embedding\n",
    "from keras.layers import Conv1D, GlobalMaxPooling1D,GlobalAveragePooling1D\n"
   ]
  },
  {
   "cell_type": "code",
   "execution_count": 27,
   "metadata": {},
   "outputs": [
    {
     "name": "stdout",
     "output_type": "stream",
     "text": [
      "Loading data...\n",
      "data loaded\n"
     ]
    }
   ],
   "source": [
    "#load data\n",
    "\n",
    "print('Loading data...')\n",
    "datasetFile='CYP1A2_fixpka.smi'\n",
    "dataset = pd.read_csv(datasetFile, sep= ' ', header=None)\n",
    "X_SMILES, y = dataset.iloc[:,:-1], dataset.iloc[:, -1]\n",
    "\n",
    "#Library of unique characters. The first element is not used for padding\n",
    "char_lib=[\"ZMY\"]\n",
    "\n",
    "#Find characters of sequences and build a library\n",
    "for index, SMILESsequence in X_SMILES.iterrows():\n",
    "    for letter in SMILESsequence[0]:\n",
    "        if not letter in char_lib:            \n",
    "            char_lib.append(letter)\n",
    "\n",
    "X=[]\n",
    "#SMILES sequence to an array\n",
    "for index, SMILESsequence in X_SMILES.iterrows():\n",
    "    sequenceArray=[]\n",
    "    for letter in SMILESsequence[0]:\n",
    "        sequenceArray.append(char_lib.index(letter))\n",
    "    X.append(sequenceArray)\n",
    "    \n",
    "print('data loaded')"
   ]
  },
  {
   "cell_type": "code",
   "execution_count": 28,
   "metadata": {},
   "outputs": [],
   "source": [
    "#add zeros\n",
    "X=sequence.pad_sequences(X)\n",
    "\n",
    "X_train, X_test, y_train, y_test = train_test_split(X, y, test_size=0.2, random_state=428)\n",
    "\n",
    "max_features = X_train.shape[1]\n",
    "maxlen = X_train.shape[1]"
   ]
  },
  {
   "cell_type": "code",
   "execution_count": null,
   "metadata": {},
   "outputs": [],
   "source": [
    "print(X_train.shape)"
   ]
  },
  {
   "cell_type": "code",
   "execution_count": 34,
   "metadata": {},
   "outputs": [],
   "source": [
    "model = Sequential()\n",
    "\n",
    "# we start off with an efficient embedding layer which maps\n",
    "# our vocab indices into embedding_dims dimensions\n",
    "model.add(Embedding(max_features,\n",
    "                    50,\n",
    "                    input_length=maxlen))\n",
    "model.add(Dropout(0.2))\n",
    "\n",
    "# we add a Convolution1D, which will learn filters\n",
    "# word group filters of size filter_length:\n",
    "model.add(Conv1D(filters=1000,\n",
    "                 kernel_size=7,\n",
    "                 padding='valid',\n",
    "                 activation='relu',\n",
    "                 strides=1))\n",
    "\n",
    "# we use max pooling:\n",
    "model.add(GlobalMaxPooling1D())\n",
    "\n",
    "# We add a vanilla hidden layer:\n",
    "model.add(Dense(250))\n",
    "model.add(Dropout(0.2))\n",
    "model.add(Dense(250))\n",
    "model.add(Dropout(0.2))\n",
    "\n",
    "model.add(Activation('relu'))\n",
    "\n",
    "# We project onto a single unit output layer, and squash it with a sigmoid:\n",
    "model.add(Dense(1))\n",
    "model.add(Activation('sigmoid'))\n",
    "\n",
    "model.compile(loss='binary_crossentropy',\n",
    "              optimizer='adam',\n",
    "              metrics=['accuracy'])"
   ]
  },
  {
   "cell_type": "code",
   "execution_count": null,
   "metadata": {},
   "outputs": [],
   "source": [
    "print(model.summary())"
   ]
  },
  {
   "cell_type": "code",
   "execution_count": 30,
   "metadata": {},
   "outputs": [],
   "source": [
    "import keras\n",
    "\n",
    "import numpy as np\n",
    "\n",
    "class CustomCallbacks(keras.callbacks.Callback):\n",
    "    def __init__(self, filename=\"best_weight.hdf5\", monitor='val_acc', patience=10):\n",
    "        self.filename = filename\n",
    "        self.monitor = monitor\n",
    "        self.patience = patience\n",
    "        self.wait = 0\n",
    "        if 'acc' in self.monitor or 'val_acc' in self.monitor:\n",
    "                self.monitor_op = np.greater\n",
    "                self.best = -np.Inf\n",
    "        else:\n",
    "                self.monitor_op = np.less\n",
    "                self.best = np.Inf\n",
    "        self.losses = []\n",
    "        self.acc = []\n",
    "        self.val_acc =[]\n",
    "        self.val_losses=[]             \n",
    "\n",
    "    def on_epoch_end(self, epoch, logs={}):\n",
    "        self.losses.append(logs.get('loss'))\n",
    "        self.acc.append(logs.get('acc'))\n",
    "        self.val_acc.append(logs.get('val_acc'))\n",
    "        self.val_losses.append(logs.get('val_loss'))   \n",
    "        print(\"acc: %0.3f\" % logs.get('acc'), \n",
    "              \", loss: %0.3f\" % logs.get('loss'),\n",
    "              \", val_acc: %0.3f\" % logs.get('val_acc'),\n",
    "              \", val_loss: %0.3f\" % logs.get('val_loss'))        \n",
    "        \n",
    "        current = logs.get(self.monitor)\n",
    "        if current is None:\n",
    "            warnings.warn('Can save best model only with %s available, '\n",
    "                                  'skipping.' % (self.monitor), RuntimeWarning)\n",
    "        else:\n",
    "            if self.monitor_op(current, self.best):\n",
    "                print('Epoch %05d: %s improved from %0.5f to %0.5f,'\n",
    "                                  ' saving model to %s'\n",
    "                                  % (epoch, self.monitor, self.best,\n",
    "                                     current, self.filename))\n",
    "                self.best = current                       \n",
    "                self.wait = 0\n",
    "                self.model.save(self.filename, overwrite=True)\n",
    "            else:\n",
    "                print('Epoch %05d: %s did not improve' %  (epoch, self.monitor))\n",
    "                if self.wait >= self.patience:                   \n",
    "                    self.model.stop_training = True\n",
    "                self.wait += 1\n",
    "\n",
    "    def on_train_end(self, logs=None):\n",
    "        if self.wait >= self.patience:\n",
    "            print('Warning: early stopping')\n",
    "        \n",
    "my_callbacks=CustomCallbacks(filename=\"CYP1A2_conv1.hdf5\", monitor='val_acc', patience=5)\n"
   ]
  },
  {
   "cell_type": "code",
   "execution_count": 35,
   "metadata": {},
   "outputs": [
    {
     "name": "stdout",
     "output_type": "stream",
     "text": [
      "acc: 0.703 , loss: 0.572 , val_acc: 0.735 , val_loss: 0.550\n",
      "Epoch 00000: val_acc did not improve\n",
      "acc: 0.738 , loss: 0.541 , val_acc: 0.742 , val_loss: 0.538\n",
      "Epoch 00001: val_acc did not improve\n",
      "acc: 0.745 , loss: 0.531 , val_acc: 0.737 , val_loss: 0.538\n",
      "Epoch 00002: val_acc did not improve\n",
      "acc: 0.754 , loss: 0.521 , val_acc: 0.737 , val_loss: 0.550\n",
      "Epoch 00003: val_acc did not improve\n",
      "acc: 0.756 , loss: 0.515 , val_acc: 0.748 , val_loss: 0.524\n",
      "Epoch 00004: val_acc did not improve\n",
      "acc: 0.760 , loss: 0.506 , val_acc: 0.753 , val_loss: 0.520\n",
      "Epoch 00005: val_acc did not improve\n",
      "Warning: early stopping\n"
     ]
    },
    {
     "data": {
      "text/plain": [
       "<keras.callbacks.History at 0x7f1e256a4780>"
      ]
     },
     "execution_count": 35,
     "metadata": {},
     "output_type": "execute_result"
    }
   ],
   "source": [
    "#set verbose to 0 so that it prints from the callback function\n",
    "model.fit(X_train, y_train,\n",
    "          batch_size=100,\n",
    "          epochs=10,\n",
    "          callbacks=[my_callbacks],\n",
    "          validation_split=0.2,\n",
    "          verbose=0) "
   ]
  },
  {
   "cell_type": "code",
   "execution_count": null,
   "metadata": {},
   "outputs": [],
   "source": [
    "print(my_callbacks.acc)"
   ]
  },
  {
   "cell_type": "code",
   "execution_count": 19,
   "metadata": {},
   "outputs": [
    {
     "name": "stdout",
     "output_type": "stream",
     "text": [
      "2981/2981 [==============================] - 0s     \n"
     ]
    },
    {
     "data": {
      "text/plain": [
       "[0.32615046743497239, 0.86413955052640368]"
      ]
     },
     "execution_count": 19,
     "metadata": {},
     "output_type": "execute_result"
    }
   ],
   "source": [
    "#get accuracy from the external dataset\n",
    "y_score=model.predict_proba(X_test)\n",
    "model.evaluate(X_test, y_test, verbose=0)"
   ]
  },
  {
   "cell_type": "code",
   "execution_count": 20,
   "metadata": {},
   "outputs": [
    {
     "data": {
      "image/png": "[encoded data removed]",
      "text/plain": [
       "<matplotlib.figure.Figure at 0x7f1ec09326d8>"
      ]
     },
     "metadata": {},
     "output_type": "display_data"
    }
   ],
   "source": [
    "%matplotlib inline\n",
    "import matplotlib.pyplot as plt\n",
    "from sklearn.metrics import roc_curve, auc\n",
    "\n",
    "y_score_get_value=[]\n",
    "for item in y_score:\n",
    "    y_score_get_value.append(item[0])\n",
    "    \n",
    "fpr, tpr, _ = roc_curve(y_test, y_score_get_value)\n",
    "\n",
    "plt.figure()\n",
    "lw = 2\n",
    "plt.plot(fpr, tpr, color='darkorange',\n",
    "         lw=lw, label='ROC curve (area = %0.3f)' % auc(fpr,tpr))\n",
    "plt.plot([0, 1], [0, 1], color='navy', lw=lw, linestyle='--')\n",
    "plt.xlim([0.0, 1.0])\n",
    "plt.ylim([0.0, 1.05])\n",
    "plt.xlabel('False Positive Rate')\n",
    "plt.ylabel('True Positive Rate')\n",
    "plt.title('Receiver operating characteristic ')\n",
    "plt.legend(loc=\"lower right\")\n",
    "plt.savefig(\"roc.svg\", format=\"svg\")\n",
    "plt.show()\n",
    "\n",
    "\n"
   ]
  }
 ],
 "metadata": {
  "kernelspec": {
   "display_name": "Python 3",
   "language": "python",
   "name": "python3"
  },
  "language_info": {
   "codemirror_mode": {
    "name": "ipython",
    "version": 3
   },
   "file_extension": ".py",
   "mimetype": "text/x-python",
   "name": "python",
   "nbconvert_exporter": "python",
   "pygments_lexer": "ipython3",
   "version": "3.5.2"
  }
 },
 "nbformat": 4,
 "nbformat_minor": 2
}
