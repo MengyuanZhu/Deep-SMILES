{
 "cells": [
  {
   "cell_type": "code",
   "execution_count": 1,
   "metadata": {},
   "outputs": [
    {
     "name": "stderr",
     "output_type": "stream",
     "text": [
      "Using TensorFlow backend.\n"
     ]
    }
   ],
   "source": [
    "from sklearn.model_selection import train_test_split\n",
    "import pandas as pd\n",
    "from __future__ import print_function\n",
    "\n",
    "from keras.preprocessing import sequence\n",
    "from keras.models import Sequential\n",
    "from keras.layers import Dense, Dropout, Activation\n",
    "from keras.layers import Embedding\n",
    "from keras.layers import Conv1D, GlobalMaxPooling1D\n",
    "from keras.datasets import imdb\n",
    "\n",
    "from keras.layers import LSTM"
   ]
  },
  {
   "cell_type": "code",
   "execution_count": 51,
   "metadata": {},
   "outputs": [
    {
     "name": "stdout",
     "output_type": "stream",
     "text": [
      "Loading data...\n",
      "data loaded\n"
     ]
    }
   ],
   "source": [
    "# set parameters:\n",
    "\n",
    "batch_size = 32\n",
    "embedding_dims = 50\n",
    "filters = 250\n",
    "kernel_size = 3\n",
    "hidden_dims = 250\n",
    "\n",
    "print('Loading data...')\n",
    "dataset = pd.read_csv('CYP1A2_fixpka.smi', sep= ' ', header=None)\n",
    "X_SMILES, y = dataset.iloc[:,:-1], dataset.iloc[:, -1]\n",
    "\n",
    "#Library of unique characters. The first element is not used for future padding\n",
    "char_lib=[\"ZMY\"]\n",
    "\n",
    "#Find characters of sequences and build a library\n",
    "for index, SMILESsequence in X_SMILES.iterrows():\n",
    "    for letter in SMILESsequence[0]:\n",
    "        if not letter in char_lib:\n",
    "            \n",
    "            char_lib.append(letter)\n",
    "#print(char_lib)\n",
    "\n",
    "X=[]\n",
    "#SMILES sequence to an array\n",
    "for index, SMILESsequence in X_SMILES.iterrows():\n",
    "    sequenceArray=[]\n",
    "    for letter in SMILESsequence[0]:\n",
    "        sequenceArray.append(char_lib.index(letter))\n",
    "    X.append(sequenceArray)\n",
    "    \n",
    "\n",
    "X=sequence.pad_sequences(X)\n",
    "\n",
    "\n",
    "X_train, X_test, y_train, y_test = train_test_split(X, y, test_size=0.2, random_state=524)\n",
    "\n",
    "#X_train=X\n",
    "#y_train=y\n",
    "\n",
    "print('data loaded')\n",
    "\n",
    "max_features = X_train.shape[1]\n",
    "maxlen = X_train.shape[1]"
   ]
  },
  {
   "cell_type": "code",
   "execution_count": 3,
   "metadata": {},
   "outputs": [
    {
     "name": "stdout",
     "output_type": "stream",
     "text": [
      "(14903, 226)\n"
     ]
    }
   ],
   "source": [
    "print(X_train.shape)"
   ]
  },
  {
   "cell_type": "code",
   "execution_count": 48,
   "metadata": {},
   "outputs": [],
   "source": [
    "model = Sequential()\n",
    "\n",
    "# we start off with an efficient embedding layer which maps\n",
    "# our vocab indices into embedding_dims dimensions\n",
    "model.add(Embedding(max_features,\n",
    "                    embedding_dims,\n",
    "                    input_length=maxlen))\n",
    "model.add(Dropout(0.2))\n",
    "\n",
    "# we add a Convolution1D, which will learn filters\n",
    "# word group filters of size filter_length:\n",
    "model.add(Conv1D(filters=1000,\n",
    "                 kernel_size=3,\n",
    "                 padding='valid',\n",
    "                 activation='relu',\n",
    "                 strides=1))\n",
    "\n",
    "# we use max pooling:\n",
    "model.add(GlobalMaxPooling1D())\n",
    "\n",
    "\n",
    "\n",
    "# We add a vanilla hidden layer:\n",
    "model.add(Dense(hidden_dims))\n",
    "model.add(Dropout(0.2))\n",
    "\n",
    "\n",
    "model.add(Activation('relu'))\n",
    "\n",
    "# We project onto a single unit output layer, and squash it with a sigmoid:\n",
    "model.add(Dense(1))\n",
    "model.add(Activation('sigmoid'))\n",
    "\n",
    "model.compile(loss='binary_crossentropy',\n",
    "              optimizer='adam',\n",
    "              metrics=['accuracy'])"
   ]
  },
  {
   "cell_type": "code",
   "execution_count": 52,
   "metadata": {},
   "outputs": [
    {
     "name": "stdout",
     "output_type": "stream",
     "text": [
      "Train on 9537 samples, validate on 2385 samples\n",
      "Epoch 1/100\n",
      "9537/9537 [==============================] - 4s - loss: 0.3475 - acc: 0.8526 - val_loss: 0.2882 - val_acc: 0.8885\n",
      "Epoch 2/100\n",
      "9537/9537 [==============================] - 4s - loss: 0.3261 - acc: 0.8583 - val_loss: 0.3268 - val_acc: 0.8658\n",
      "Epoch 3/100\n",
      "9537/9537 [==============================] - 4s - loss: 0.3272 - acc: 0.8595 - val_loss: 0.2966 - val_acc: 0.8767\n",
      "Epoch 4/100\n",
      "9537/9537 [==============================] - 4s - loss: 0.3153 - acc: 0.8627 - val_loss: 0.3035 - val_acc: 0.8713\n",
      "Epoch 5/100\n",
      "9537/9537 [==============================] - 4s - loss: 0.3139 - acc: 0.8600 - val_loss: 0.3256 - val_acc: 0.8667\n",
      "Epoch 6/100\n",
      "9537/9537 [==============================] - 4s - loss: 0.3060 - acc: 0.8686 - val_loss: 0.3157 - val_acc: 0.8704\n",
      "Epoch 7/100\n",
      "9537/9537 [==============================] - 4s - loss: 0.2929 - acc: 0.8748 - val_loss: 0.3466 - val_acc: 0.8516\n",
      "Epoch 8/100\n",
      "9537/9537 [==============================] - 4s - loss: 0.2942 - acc: 0.8708 - val_loss: 0.3151 - val_acc: 0.8621\n",
      "Epoch 9/100\n",
      "9537/9537 [==============================] - 4s - loss: 0.2844 - acc: 0.8779 - val_loss: 0.3436 - val_acc: 0.8528\n",
      "Epoch 10/100\n",
      "9537/9537 [==============================] - 4s - loss: 0.2962 - acc: 0.8699 - val_loss: 0.3511 - val_acc: 0.8532\n",
      "Epoch 11/100\n",
      "9537/9537 [==============================] - 4s - loss: 0.2847 - acc: 0.8772 - val_loss: 0.3466 - val_acc: 0.8532\n",
      "Epoch 12/100\n",
      "9537/9537 [==============================] - 4s - loss: 0.2751 - acc: 0.8763 - val_loss: 0.4770 - val_acc: 0.8109\n",
      "Epoch 13/100\n",
      "9537/9537 [==============================] - 4s - loss: 0.2865 - acc: 0.8747 - val_loss: 0.3679 - val_acc: 0.8373\n",
      "Epoch 14/100\n",
      "9537/9537 [==============================] - 4s - loss: 0.2737 - acc: 0.8824 - val_loss: 0.3685 - val_acc: 0.8365\n",
      "Epoch 15/100\n",
      "9537/9537 [==============================] - 4s - loss: 0.2853 - acc: 0.8757 - val_loss: 0.3348 - val_acc: 0.8512\n",
      "Epoch 16/100\n",
      "9537/9537 [==============================] - 4s - loss: 0.2674 - acc: 0.8842 - val_loss: 0.5242 - val_acc: 0.8021\n",
      "Epoch 17/100\n",
      "9537/9537 [==============================] - 4s - loss: 0.2792 - acc: 0.8754 - val_loss: 0.3823 - val_acc: 0.8444\n",
      "Epoch 18/100\n",
      "9537/9537 [==============================] - 4s - loss: 0.2526 - acc: 0.8903 - val_loss: 0.3735 - val_acc: 0.8528\n",
      "Epoch 19/100\n",
      "9537/9537 [==============================] - 4s - loss: 0.2636 - acc: 0.8842 - val_loss: 0.3544 - val_acc: 0.8591\n",
      "Epoch 20/100\n",
      "9537/9537 [==============================] - 4s - loss: 0.2596 - acc: 0.8865 - val_loss: 0.3452 - val_acc: 0.8600\n",
      "Epoch 21/100\n",
      "9537/9537 [==============================] - 4s - loss: 0.2476 - acc: 0.8942 - val_loss: 0.3548 - val_acc: 0.8591\n",
      "Epoch 22/100\n",
      "9537/9537 [==============================] - 4s - loss: 0.2395 - acc: 0.8957 - val_loss: 0.3888 - val_acc: 0.8482\n",
      "Epoch 23/100\n",
      "9537/9537 [==============================] - 4s - loss: 0.2409 - acc: 0.8964 - val_loss: 0.3823 - val_acc: 0.8516\n",
      "Epoch 24/100\n",
      "9537/9537 [==============================] - 4s - loss: 0.2468 - acc: 0.8949 - val_loss: 0.3763 - val_acc: 0.8403\n",
      "Epoch 25/100\n",
      "9537/9537 [==============================] - 4s - loss: 0.2398 - acc: 0.8971 - val_loss: 0.3978 - val_acc: 0.8394\n",
      "Epoch 26/100\n",
      "9537/9537 [==============================] - 4s - loss: 0.2402 - acc: 0.8948 - val_loss: 0.4039 - val_acc: 0.8390\n",
      "Epoch 27/100\n",
      "9537/9537 [==============================] - 4s - loss: 0.2491 - acc: 0.8940 - val_loss: 0.3863 - val_acc: 0.8465\n",
      "Epoch 28/100\n",
      "9537/9537 [==============================] - 4s - loss: 0.2332 - acc: 0.8995 - val_loss: 0.4121 - val_acc: 0.8444\n",
      "Epoch 29/100\n",
      "9537/9537 [==============================] - 4s - loss: 0.2427 - acc: 0.8961 - val_loss: 0.4022 - val_acc: 0.8377\n",
      "Epoch 30/100\n",
      "9537/9537 [==============================] - 4s - loss: 0.2322 - acc: 0.9006 - val_loss: 0.4079 - val_acc: 0.8382\n",
      "Epoch 31/100\n",
      "9537/9537 [==============================] - 4s - loss: 0.2441 - acc: 0.8936 - val_loss: 0.4022 - val_acc: 0.8428\n",
      "Epoch 32/100\n",
      "9537/9537 [==============================] - 4s - loss: 0.2304 - acc: 0.9030 - val_loss: 0.5080 - val_acc: 0.8038\n",
      "Epoch 33/100\n",
      "9537/9537 [==============================] - 4s - loss: 0.2246 - acc: 0.9015 - val_loss: 0.4066 - val_acc: 0.8478\n",
      "Epoch 34/100\n",
      "9537/9537 [==============================] - 4s - loss: 0.2206 - acc: 0.9074 - val_loss: 0.4302 - val_acc: 0.8432\n",
      "Epoch 35/100\n",
      "9537/9537 [==============================] - 4s - loss: 0.2265 - acc: 0.9015 - val_loss: 0.4689 - val_acc: 0.8373\n",
      "Epoch 36/100\n",
      "9537/9537 [==============================] - 4s - loss: 0.2143 - acc: 0.9081 - val_loss: 0.4493 - val_acc: 0.8348\n",
      "Epoch 37/100\n",
      "9537/9537 [==============================] - 4s - loss: 0.2062 - acc: 0.9099 - val_loss: 0.4317 - val_acc: 0.8423\n",
      "Epoch 38/100\n",
      "9537/9537 [==============================] - 4s - loss: 0.2261 - acc: 0.9043 - val_loss: 0.4681 - val_acc: 0.8356\n",
      "Epoch 39/100\n",
      "9537/9537 [==============================] - 4s - loss: 0.2147 - acc: 0.9070 - val_loss: 0.4448 - val_acc: 0.8377\n",
      "Epoch 40/100\n",
      "9537/9537 [==============================] - 4s - loss: 0.2016 - acc: 0.9140 - val_loss: 0.4435 - val_acc: 0.8310\n",
      "Epoch 41/100\n",
      "9537/9537 [==============================] - 4s - loss: 0.2119 - acc: 0.9118 - val_loss: 0.4412 - val_acc: 0.8361\n",
      "Epoch 42/100\n",
      "9537/9537 [==============================] - 4s - loss: 0.1975 - acc: 0.9182 - val_loss: 0.4779 - val_acc: 0.8260\n",
      "Epoch 43/100\n",
      "9537/9537 [==============================] - 4s - loss: 0.2058 - acc: 0.9126 - val_loss: 0.5060 - val_acc: 0.8277\n",
      "Epoch 44/100\n",
      "9537/9537 [==============================] - 4s - loss: 0.1987 - acc: 0.9136 - val_loss: 0.4699 - val_acc: 0.8365\n",
      "Epoch 45/100\n",
      "9537/9537 [==============================] - 4s - loss: 0.1997 - acc: 0.9170 - val_loss: 0.4855 - val_acc: 0.8398\n",
      "Epoch 46/100\n",
      "9537/9537 [==============================] - 4s - loss: 0.1936 - acc: 0.9179 - val_loss: 0.5235 - val_acc: 0.8281\n",
      "Epoch 47/100\n",
      "9537/9537 [==============================] - 4s - loss: 0.1950 - acc: 0.9156 - val_loss: 0.4671 - val_acc: 0.8411\n",
      "Epoch 48/100\n",
      "9537/9537 [==============================] - 4s - loss: 0.1999 - acc: 0.9174 - val_loss: 0.5255 - val_acc: 0.8323\n",
      "Epoch 49/100\n",
      "9537/9537 [==============================] - 4s - loss: 0.2157 - acc: 0.9090 - val_loss: 0.4711 - val_acc: 0.8281\n",
      "Epoch 50/100\n",
      "9537/9537 [==============================] - 4s - loss: 0.1957 - acc: 0.9179 - val_loss: 0.5259 - val_acc: 0.8340\n",
      "Epoch 51/100\n",
      "9537/9537 [==============================] - 4s - loss: 0.1861 - acc: 0.9180 - val_loss: 0.4589 - val_acc: 0.8369\n",
      "Epoch 52/100\n",
      "9537/9537 [==============================] - 4s - loss: 0.2042 - acc: 0.9117 - val_loss: 0.4909 - val_acc: 0.8314\n",
      "Epoch 53/100\n",
      "9537/9537 [==============================] - 4s - loss: 0.1946 - acc: 0.9200 - val_loss: 0.5124 - val_acc: 0.8239\n",
      "Epoch 54/100\n",
      "9537/9537 [==============================] - 4s - loss: 0.1829 - acc: 0.9215 - val_loss: 0.5889 - val_acc: 0.8168\n",
      "Epoch 55/100\n",
      "9537/9537 [==============================] - 4s - loss: 0.1949 - acc: 0.9176 - val_loss: 0.4608 - val_acc: 0.8306\n",
      "Epoch 56/100\n",
      "9537/9537 [==============================] - 4s - loss: 0.1809 - acc: 0.9231 - val_loss: 0.5270 - val_acc: 0.8335\n",
      "Epoch 57/100\n",
      "9537/9537 [==============================] - 4s - loss: 0.1852 - acc: 0.9226 - val_loss: 0.4943 - val_acc: 0.8344\n",
      "Epoch 58/100\n",
      "9537/9537 [==============================] - 4s - loss: 0.1902 - acc: 0.9197 - val_loss: 0.5075 - val_acc: 0.8273\n",
      "Epoch 59/100\n",
      "9537/9537 [==============================] - 4s - loss: 0.1730 - acc: 0.9241 - val_loss: 0.5504 - val_acc: 0.8314\n",
      "Epoch 60/100\n",
      "9537/9537 [==============================] - 4s - loss: 0.1855 - acc: 0.9187 - val_loss: 0.4897 - val_acc: 0.8281\n",
      "Epoch 61/100\n",
      "9537/9537 [==============================] - 4s - loss: 0.1749 - acc: 0.9239 - val_loss: 0.5001 - val_acc: 0.8302\n",
      "Epoch 62/100\n",
      "9537/9537 [==============================] - 4s - loss: 0.1836 - acc: 0.9211 - val_loss: 0.5119 - val_acc: 0.8344\n",
      "Epoch 63/100\n",
      "9537/9537 [==============================] - 4s - loss: 0.1840 - acc: 0.9248 - val_loss: 0.5006 - val_acc: 0.8264\n",
      "Epoch 64/100\n",
      "9537/9537 [==============================] - 4s - loss: 0.1696 - acc: 0.9291 - val_loss: 0.5137 - val_acc: 0.8323\n",
      "Epoch 65/100\n"
     ]
    },
    {
     "name": "stdout",
     "output_type": "stream",
     "text": [
      "9537/9537 [==============================] - 4s - loss: 0.1641 - acc: 0.9308 - val_loss: 0.5466 - val_acc: 0.8323\n",
      "Epoch 66/100\n",
      "9537/9537 [==============================] - 4s - loss: 0.1791 - acc: 0.9273 - val_loss: 0.5231 - val_acc: 0.8340\n",
      "Epoch 67/100\n",
      "9537/9537 [==============================] - 4s - loss: 0.1734 - acc: 0.9270 - val_loss: 0.5086 - val_acc: 0.8289\n",
      "Epoch 68/100\n",
      "9537/9537 [==============================] - 4s - loss: 0.1759 - acc: 0.9232 - val_loss: 0.5507 - val_acc: 0.8298\n",
      "Epoch 69/100\n",
      "9537/9537 [==============================] - 4s - loss: 0.1750 - acc: 0.9273 - val_loss: 0.6126 - val_acc: 0.8285\n",
      "Epoch 70/100\n",
      "9537/9537 [==============================] - 4s - loss: 0.1668 - acc: 0.9321 - val_loss: 0.6330 - val_acc: 0.8356\n",
      "Epoch 71/100\n",
      "9537/9537 [==============================] - 4s - loss: 0.1660 - acc: 0.9289 - val_loss: 0.5382 - val_acc: 0.8302\n",
      "Epoch 72/100\n",
      "9537/9537 [==============================] - 4s - loss: 0.1841 - acc: 0.9193 - val_loss: 0.5710 - val_acc: 0.8294\n",
      "Epoch 73/100\n",
      "9537/9537 [==============================] - 4s - loss: 0.1674 - acc: 0.9279 - val_loss: 0.5331 - val_acc: 0.8298\n",
      "Epoch 74/100\n",
      "9537/9537 [==============================] - 4s - loss: 0.1626 - acc: 0.9325 - val_loss: 0.5537 - val_acc: 0.8298\n",
      "Epoch 75/100\n",
      "9537/9537 [==============================] - 4s - loss: 0.1571 - acc: 0.9325 - val_loss: 0.5445 - val_acc: 0.8285\n",
      "Epoch 76/100\n",
      "9537/9537 [==============================] - 4s - loss: 0.1712 - acc: 0.9286 - val_loss: 0.5191 - val_acc: 0.8277\n",
      "Epoch 77/100\n",
      "9537/9537 [==============================] - 4s - loss: 0.1545 - acc: 0.9373 - val_loss: 0.5829 - val_acc: 0.8281\n",
      "Epoch 78/100\n",
      "9537/9537 [==============================] - 4s - loss: 0.1550 - acc: 0.9367 - val_loss: 0.6305 - val_acc: 0.8180\n",
      "Epoch 79/100\n",
      "9537/9537 [==============================] - 4s - loss: 0.1562 - acc: 0.9377 - val_loss: 0.5877 - val_acc: 0.8067\n",
      "Epoch 80/100\n",
      "9537/9537 [==============================] - 4s - loss: 0.1726 - acc: 0.9256 - val_loss: 0.5914 - val_acc: 0.8071\n",
      "Epoch 81/100\n",
      "9537/9537 [==============================] - 4s - loss: 0.1631 - acc: 0.9302 - val_loss: 0.5755 - val_acc: 0.8243\n",
      "Epoch 82/100\n",
      "9537/9537 [==============================] - 4s - loss: 0.1487 - acc: 0.9361 - val_loss: 0.5734 - val_acc: 0.8335\n",
      "Epoch 83/100\n",
      "9537/9537 [==============================] - 4s - loss: 0.1559 - acc: 0.9349 - val_loss: 0.6895 - val_acc: 0.8252\n",
      "Epoch 84/100\n",
      "9537/9537 [==============================] - 4s - loss: 0.1571 - acc: 0.9335 - val_loss: 0.5883 - val_acc: 0.8176\n",
      "Epoch 85/100\n",
      "9537/9537 [==============================] - 4s - loss: 0.1506 - acc: 0.9397 - val_loss: 0.5965 - val_acc: 0.8231\n",
      "Epoch 86/100\n",
      "9537/9537 [==============================] - 4s - loss: 0.1524 - acc: 0.9385 - val_loss: 0.5832 - val_acc: 0.8239\n",
      "Epoch 87/100\n",
      "9537/9537 [==============================] - 4s - loss: 0.1437 - acc: 0.9385 - val_loss: 0.6400 - val_acc: 0.8189\n",
      "Epoch 88/100\n",
      "9537/9537 [==============================] - 4s - loss: 0.1677 - acc: 0.9284 - val_loss: 0.5518 - val_acc: 0.8268\n",
      "Epoch 89/100\n",
      "9537/9537 [==============================] - 4s - loss: 0.1407 - acc: 0.9426 - val_loss: 0.6085 - val_acc: 0.8310\n",
      "Epoch 90/100\n",
      "9537/9537 [==============================] - 4s - loss: 0.1592 - acc: 0.9349 - val_loss: 0.5669 - val_acc: 0.8197\n",
      "Epoch 91/100\n",
      "9537/9537 [==============================] - 4s - loss: 0.1608 - acc: 0.9332 - val_loss: 0.6607 - val_acc: 0.8067\n",
      "Epoch 92/100\n",
      "9537/9537 [==============================] - 4s - loss: 0.1520 - acc: 0.9365 - val_loss: 0.6086 - val_acc: 0.8239\n",
      "Epoch 93/100\n",
      "9537/9537 [==============================] - 4s - loss: 0.1451 - acc: 0.9392 - val_loss: 0.6064 - val_acc: 0.8281\n",
      "Epoch 94/100\n",
      "9537/9537 [==============================] - 4s - loss: 0.1415 - acc: 0.9398 - val_loss: 0.6523 - val_acc: 0.8281\n",
      "Epoch 95/100\n",
      "9537/9537 [==============================] - 4s - loss: 0.1439 - acc: 0.9390 - val_loss: 0.6388 - val_acc: 0.8189\n",
      "Epoch 96/100\n",
      "9537/9537 [==============================] - 4s - loss: 0.1471 - acc: 0.9399 - val_loss: 0.6599 - val_acc: 0.8260\n",
      "Epoch 97/100\n",
      "9537/9537 [==============================] - 4s - loss: 0.1397 - acc: 0.9415 - val_loss: 0.5498 - val_acc: 0.8256\n",
      "Epoch 98/100\n",
      "9537/9537 [==============================] - 4s - loss: 0.1408 - acc: 0.9414 - val_loss: 0.6526 - val_acc: 0.8210\n",
      "Epoch 99/100\n",
      "9537/9537 [==============================] - 4s - loss: 0.1326 - acc: 0.9458 - val_loss: 0.6677 - val_acc: 0.8298\n",
      "Epoch 100/100\n",
      "9537/9537 [==============================] - 4s - loss: 0.1396 - acc: 0.9400 - val_loss: 0.6885 - val_acc: 0.8310\n"
     ]
    },
    {
     "data": {
      "text/plain": [
       "<keras.callbacks.History at 0x7f35053ea748>"
      ]
     },
     "execution_count": 52,
     "metadata": {},
     "output_type": "execute_result"
    }
   ],
   "source": [
    "model.fit(X_train, y_train,\n",
    "          batch_size=100,\n",
    "          epochs=100,\n",
    "          validation_split=0.2)"
   ]
  },
  {
   "cell_type": "code",
   "execution_count": 57,
   "metadata": {},
   "outputs": [
    {
     "name": "stdout",
     "output_type": "stream",
     "text": [
      "2752/2981 [==========================>...] - ETA: 0s"
     ]
    },
    {
     "data": {
      "text/plain": [
       "[0.67383242581203373, 0.82220731300221561]"
      ]
     },
     "execution_count": 57,
     "metadata": {},
     "output_type": "execute_result"
    }
   ],
   "source": [
    "y_score=model.predict_proba(X_test)\n",
    "model.evaluate(X_test, y_test, verbose=0)"
   ]
  },
  {
   "cell_type": "code",
   "execution_count": 55,
   "metadata": {},
   "outputs": [
    {
     "data": {
      "image/png": "[encoded data removed]",
      "text/plain": [
       "<matplotlib.figure.Figure at 0x7f35053e3fd0>"
      ]
     },
     "metadata": {},
     "output_type": "display_data"
    }
   ],
   "source": [
    "%matplotlib inline\n",
    "import matplotlib.pyplot as plt\n",
    "from sklearn.metrics import roc_curve, auc\n",
    "\n",
    "\n",
    "\n",
    "y_score_get_value=[]\n",
    "for item in y_score:\n",
    "    y_score_get_value.append(item[0])\n",
    "    \n",
    "fpr, tpr, _ = roc_curve(y_test, y_score_get_value)\n",
    "\n",
    "plt.figure()\n",
    "lw = 2\n",
    "plt.plot(fpr, tpr, color='darkorange',\n",
    "         lw=lw, label='ROC curve (area = %0.3f)' % auc(fpr,tpr))\n",
    "plt.plot([0, 1], [0, 1], color='navy', lw=lw, linestyle='--')\n",
    "plt.xlim([0.0, 1.0])\n",
    "plt.ylim([0.0, 1.05])\n",
    "plt.xlabel('False Positive Rate')\n",
    "plt.ylabel('True Positive Rate')\n",
    "plt.title('Receiver operating characteristic ')\n",
    "plt.legend(loc=\"lower right\")\n",
    "plt.show()\n",
    "\n",
    "\n",
    "\n",
    "\n",
    "\n",
    "\n"
   ]
  },
  {
   "cell_type": "markdown",
   "metadata": {},
   "source": []
  },
  {
   "cell_type": "code",
   "execution_count": 58,
   "metadata": {
    "collapsed": true
   },
   "outputs": [],
   "source": [
    "from keras.models import load_model\n",
    "model.save(\"CYP1A2_conv1.h5\")"
   ]
  }
 ],
 "metadata": {
  "kernelspec": {
   "display_name": "Python 3",
   "language": "python",
   "name": "python3"
  },
  "language_info": {
   "codemirror_mode": {
    "name": "ipython",
    "version": 3
   },
   "file_extension": ".py",
   "mimetype": "text/x-python",
   "name": "python",
   "nbconvert_exporter": "python",
   "pygments_lexer": "ipython3",
   "version": "3.5.2"
  }
 },
 "nbformat": 4,
 "nbformat_minor": 2
}
