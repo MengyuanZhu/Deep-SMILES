{
 "cells": [
  {
   "cell_type": "code",
   "execution_count": 11,
   "metadata": {},
   "outputs": [
    {
     "name": "stdout",
     "output_type": "stream",
     "text": [
      "Loading data...\n",
      "(264, 1443)\n",
      "(264, 1443) (67, 1443)\n",
      "data loaded\n"
     ]
    }
   ],
   "source": [
    "from sklearn.model_selection import train_test_split\n",
    "import pandas as pd\n",
    "from __future__ import print_function\n",
    "\n",
    "from keras.preprocessing import sequence\n",
    "from keras.models import Sequential\n",
    "from keras.layers import Dense, Dropout, Activation\n",
    "from keras.layers import Embedding\n",
    "\n",
    "\n",
    "\n",
    "print('Loading data...')\n",
    "dataset = pd.read_csv('pgp_substrate_descriptor_1less.csv', sep=',')\n",
    "X, y = dataset.iloc[:,1:-1], dataset.iloc[:, 0]\n",
    "X_train, X_test, y_train, y_test = train_test_split(X, y, test_size=0.20, random_state=524)\n",
    "print(X_train.shape)\n",
    "X_train = X_train.values.reshape(X_train.shape[0],  X_train.shape[1])\n",
    "X_test = X_test.values.reshape(X_test.shape[0],  X_train.shape[1])\n",
    "\n",
    "print(X_train.shape, X_test.shape)\n",
    "print('data loaded')\n",
    "\n"
   ]
  },
  {
   "cell_type": "code",
   "execution_count": 18,
   "metadata": {},
   "outputs": [
    {
     "name": "stdout",
     "output_type": "stream",
     "text": [
      "_________________________________________________________________\n",
      "Layer (type)                 Output Shape              Param #   \n",
      "=================================================================\n",
      "dense_12 (Dense)             (None, 512)               739328    \n",
      "_________________________________________________________________\n",
      "dropout_8 (Dropout)          (None, 512)               0         \n",
      "_________________________________________________________________\n",
      "dense_13 (Dense)             (None, 1)                 513       \n",
      "=================================================================\n",
      "Total params: 739,841.0\n",
      "Trainable params: 739,841.0\n",
      "Non-trainable params: 0.0\n",
      "_________________________________________________________________\n"
     ]
    }
   ],
   "source": [
    "'''Trains a simple deep NN on the MNIST dataset.\n",
    "Gets to 98.40% test accuracy after 20 epochs\n",
    "(there is *a lot* of margin for parameter tuning).\n",
    "2 seconds per epoch on a K520 GPU.\n",
    "'''\n",
    "\n",
    "from __future__ import print_function\n",
    "\n",
    "import keras\n",
    "from keras.datasets import mnist\n",
    "from keras.models import Sequential\n",
    "from keras.layers import Dense, Dropout\n",
    "from keras.optimizers import RMSprop\n",
    "\n",
    "\n",
    "batch_size = 128\n",
    "num_classes = 2\n",
    "epochs = 10\n",
    "\n",
    "model = Sequential()\n",
    "model.add(Dense(512, activation='relu', input_shape=(X_train.shape[1],)))\n",
    "model.add(Dropout(0.2))\n",
    "\n",
    "model.add(Dense(1, activation='sigmoid'))\n",
    "\n",
    "model.summary()\n",
    "\n",
    "model.compile(loss='binary_crossentropy',\n",
    "              optimizer=\"adam\",\n",
    "              metrics=['accuracy'])\n",
    "\n"
   ]
  },
  {
   "cell_type": "code",
   "execution_count": 22,
   "metadata": {},
   "outputs": [
    {
     "name": "stdout",
     "output_type": "stream",
     "text": [
      "Train on 264 samples, validate on 67 samples\n",
      "Epoch 1/10\n",
      "Epoch 2/10\n",
      "Epoch 3/10\n",
      "Epoch 4/10\n",
      "Epoch 5/10\n",
      "Epoch 6/10\n",
      "Epoch 7/10\n",
      "Epoch 8/10\n",
      "Epoch 9/10\n",
      "Epoch 10/10\n",
      "Test loss: 0.64261484502\n",
      "Test accuracy: 0.76119403074\n"
     ]
    }
   ],
   "source": [
    "history = model.fit(X_train, y_train,\n",
    "                    batch_size=10,\n",
    "                    epochs=epochs,\n",
    "                    verbose=128,\n",
    "                    validation_data=(X_test, y_test))\n",
    "score = model.evaluate(X_test, y_test, verbose=0)\n",
    "print('Test loss:', score[0])\n",
    "print('Test accuracy:', score[1])"
   ]
  },
  {
   "cell_type": "code",
   "execution_count": null,
   "metadata": {},
   "outputs": [],
   "source": []
  },
  {
   "cell_type": "code",
   "execution_count": 24,
   "metadata": {},
   "outputs": [
    {
     "name": "stdout",
     "output_type": "stream",
     "text": [
      "32/67 [=============>................] - ETA: 0s[[ 0.55371374]\n",
      " [ 0.55371374]\n",
      " [ 0.55371374]\n",
      " [ 0.55371374]\n",
      " [ 0.55371374]\n",
      " [ 0.55371374]\n",
      " [ 0.55371374]\n",
      " [ 0.55371374]\n",
      " [ 0.55371374]\n",
      " [ 0.55371374]\n",
      " [ 0.55371374]\n",
      " [ 0.55371374]\n",
      " [ 0.55371374]\n",
      " [ 0.55371374]\n",
      " [ 0.55371374]\n",
      " [ 0.55371374]\n",
      " [ 0.55371374]\n",
      " [ 0.55371374]\n",
      " [ 0.55371374]\n",
      " [ 0.55371374]\n",
      " [ 0.55371374]\n",
      " [ 0.55371374]\n",
      " [ 0.55371374]\n",
      " [ 0.55371374]\n",
      " [ 0.55371374]\n",
      " [ 0.55371374]\n",
      " [ 0.55371374]\n",
      " [ 0.55371374]\n",
      " [ 0.55371374]\n",
      " [ 0.55371374]\n",
      " [ 0.55371374]\n",
      " [ 0.55371374]\n",
      " [ 0.55371374]\n",
      " [ 0.55371374]\n",
      " [ 0.55371374]\n",
      " [ 0.55371374]\n",
      " [ 0.55371374]\n",
      " [ 0.55371374]\n",
      " [ 0.55371374]\n",
      " [ 0.55371374]\n",
      " [ 0.55371374]\n",
      " [ 0.55371374]\n",
      " [ 0.55371374]\n",
      " [ 0.55371374]\n",
      " [ 0.55371374]\n",
      " [ 0.55371374]\n",
      " [ 0.55371374]\n",
      " [ 0.55371374]\n",
      " [ 0.55371374]\n",
      " [ 0.55371374]\n",
      " [ 0.55371374]\n",
      " [ 0.55371374]\n",
      " [ 0.55371374]\n",
      " [ 0.55371374]\n",
      " [ 0.55371374]\n",
      " [ 0.55371374]\n",
      " [ 0.55371374]\n",
      " [ 0.55371374]\n",
      " [ 0.55371374]\n",
      " [ 0.55371374]\n",
      " [ 0.55371374]\n",
      " [ 0.55371374]\n",
      " [ 0.55371374]\n",
      " [ 0.55371374]\n",
      " [ 0.55371374]\n",
      " [ 0.55371374]\n",
      " [ 0.55371374]]\n",
      "[0.64261484501966792, 0.76119403074036784]\n"
     ]
    },
    {
     "data": {
      "image/png": "[encoded data removed]",
      "text/plain": [
       "<matplotlib.figure.Figure at 0x7fd4701d2ba8>"
      ]
     },
     "metadata": {},
     "output_type": "display_data"
    }
   ],
   "source": [
    "y_score=model.predict_proba(X_test)\n",
    "print(y_score)\n",
    "score = model.evaluate(X_test,y_test, verbose=0)\n",
    "print(score)\n",
    "%matplotlib inline\n",
    "import matplotlib.pyplot as plt\n",
    "from sklearn.metrics import roc_curve, auc\n",
    "\n",
    "\n",
    "\n",
    "y_score_get_value=[]\n",
    "for item in y_score:\n",
    "    y_score_get_value.append(item[0])\n",
    "    \n",
    "fpr, tpr, _ = roc_curve(y_test, y_score_get_value)\n",
    "\n",
    "plt.figure()\n",
    "lw = 2\n",
    "plt.plot(fpr, tpr, color='darkorange',\n",
    "         lw=lw, label='ROC curve (area = %0.2f)' % auc(fpr,tpr))\n",
    "plt.plot([0, 1], [0, 1], color='navy', lw=lw, linestyle='--')\n",
    "plt.xlim([0.0, 1.0])\n",
    "plt.ylim([0.0, 1.05])\n",
    "plt.xlabel('False Positive Rate')\n",
    "plt.ylabel('True Positive Rate')\n",
    "plt.title('Receiver operating characteristic ')\n",
    "plt.legend(loc=\"lower right\")\n",
    "plt.show()\n"
   ]
  }
 ],
 "metadata": {
  "kernelspec": {
   "display_name": "Python 3",
   "language": "python",
   "name": "python3"
  },
  "language_info": {
   "codemirror_mode": {
    "name": "ipython",
    "version": 3
   },
   "file_extension": ".py",
   "mimetype": "text/x-python",
   "name": "python",
   "nbconvert_exporter": "python",
   "pygments_lexer": "ipython3",
   "version": "3.5.2"
  }
 },
 "nbformat": 4,
 "nbformat_minor": 2
}
