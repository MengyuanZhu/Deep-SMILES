{
 "cells": [
  {
   "cell_type": "code",
   "execution_count": 2,
   "metadata": {},
   "outputs": [
    {
     "name": "stderr",
     "output_type": "stream",
     "text": [
      "Using TensorFlow backend.\n"
     ]
    },
    {
     "name": "stdout",
     "output_type": "stream",
     "text": [
      "(60000, 28, 28)\n",
      "(60000, 1, 28, 28)\n"
     ]
    }
   ],
   "source": [
    "%matplotlib inline\n",
    "from matplotlib import pyplot as plt\n",
    "from keras.datasets import mnist\n",
    "import keras\n",
    "import numpy as np\n",
    "np.random.seed(524)\n",
    "\n",
    "from keras.models import Sequential\n",
    "from keras.layers import Dense, Dropout, Activation, Flatten\n",
    "from keras.layers import Convolution2D, pooling, convolutional\n",
    "from keras.utils import np_utils\n",
    "\n",
    "\n",
    "(X_train, y_train),(X_test, y_test)=mnist.load_data()\n",
    "print(X_train.shape)\n",
    "X_train = X_train.reshape(X_train.shape[0], 1, 28, 28)\n",
    "X_test = X_test.reshape(X_test.shape[0], 1, 28, 28)\n",
    "print(X_train.shape)\n",
    "\n",
    "X_train = X_train.astype('float32')\n",
    "X_test = X_test.astype('float32')\n",
    "X_train /= 255\n",
    "X_test /= 255\n",
    "\n",
    "Y_train = np_utils.to_categorical(y_train, 10)\n",
    "Y_test = np_utils.to_categorical(y_test, 10)"
   ]
  },
  {
   "cell_type": "code",
   "execution_count": 4,
   "metadata": {},
   "outputs": [
    {
     "name": "stdout",
     "output_type": "stream",
     "text": [
      "(None, 30, 26, 26)\n",
      "(None, 30, 13, 13)\n",
      "(None, 30, 11, 11)\n",
      "(None, 30, 5, 5)\n"
     ]
    },
    {
     "name": "stderr",
     "output_type": "stream",
     "text": [
      "/usr/local/lib/python3.5/dist-packages/ipykernel_launcher.py:3: UserWarning: Update your `Conv2D` call to the Keras 2 API: `Conv2D(input_shape=(1, 28, 28..., filters=30, kernel_size=(3, 3), activation=\"relu\", data_format=\"channels_first\")`\n",
      "  This is separate from the ipykernel package so we can avoid doing imports until\n",
      "/usr/local/lib/python3.5/dist-packages/ipykernel_launcher.py:7: UserWarning: Update your `Conv2D` call to the Keras 2 API: `Conv2D(filters=30, kernel_size=(3, 3), activation=\"relu\", data_format=\"channels_first\")`\n",
      "  import sys\n"
     ]
    }
   ],
   "source": [
    "model = Sequential()\n",
    "\n",
    "model.add(convolutional.Conv2D(filters=30, kernel_size=(3, 3), dim_ordering=\"th\", activation='relu', input_shape=(1,28,28)))\n",
    "print(model.output_shape)\n",
    "model.add(pooling.MaxPooling2D(pool_size=(2,2),data_format='channels_first'))\n",
    "print(model.output_shape)\n",
    "model.add(convolutional.Conv2D(filters=30, kernel_size=(3, 3), dim_ordering=\"th\", activation='relu'))\n",
    "print(model.output_shape)\n",
    "model.add(pooling.MaxPooling2D(pool_size=(2,2),data_format='channels_first'))\n",
    "print(model.output_shape)\n",
    "\n",
    "\n",
    "\n",
    "\n",
    "model.add(Flatten())\n",
    "model.add(Dense(128, activation='relu'))\n",
    "model.add(Dropout(0.5))\n",
    "model.add(Dense(10, activation='softmax'))\n",
    "\n",
    "model.compile(loss='categorical_crossentropy',\n",
    "              optimizer='adam',\n",
    "              metrics=['accuracy'])\n"
   ]
  },
  {
   "cell_type": "code",
   "execution_count": 53,
   "metadata": {},
   "outputs": [
    {
     "name": "stdout",
     "output_type": "stream",
     "text": [
      "Epoch 1/10\n",
      "60000/60000 [==============================] - 22s - loss: 0.0838 - acc: 0.9749    \n",
      "Epoch 2/10\n",
      "60000/60000 [==============================] - 22s - loss: 0.0619 - acc: 0.9817    \n",
      "Epoch 3/10\n",
      "60000/60000 [==============================] - 22s - loss: 0.0506 - acc: 0.9847    \n",
      "Epoch 4/10\n",
      "60000/60000 [==============================] - 22s - loss: 0.0408 - acc: 0.9871    \n",
      "Epoch 5/10\n",
      "60000/60000 [==============================] - 22s - loss: 0.0375 - acc: 0.9878    \n",
      "Epoch 6/10\n",
      "60000/60000 [==============================] - 22s - loss: 0.0325 - acc: 0.9897    \n",
      "Epoch 7/10\n",
      "60000/60000 [==============================] - 22s - loss: 0.0295 - acc: 0.9904    \n",
      "Epoch 8/10\n",
      "60000/60000 [==============================] - 22s - loss: 0.0276 - acc: 0.9914    \n",
      "Epoch 9/10\n",
      "60000/60000 [==============================] - 22s - loss: 0.0248 - acc: 0.9922    \n",
      "Epoch 10/10\n",
      "60000/60000 [==============================] - 22s - loss: 0.0213 - acc: 0.9933    \n"
     ]
    }
   ],
   "source": [
    "model.fit(X_train, Y_train, \n",
    "          batch_size=32, epochs=10, verbose=1)\n",
    "score = model.evaluate(X_test, Y_test, verbose=0)"
   ]
  },
  {
   "cell_type": "code",
   "execution_count": 54,
   "metadata": {},
   "outputs": [
    {
     "name": "stdout",
     "output_type": "stream",
     "text": [
      "[0.030379833868693779, 0.99219999999999997]\n"
     ]
    }
   ],
   "source": [
    "print(score)"
   ]
  }
 ],
 "metadata": {
  "kernelspec": {
   "display_name": "Python 3",
   "language": "python",
   "name": "python3"
  },
  "language_info": {
   "codemirror_mode": {
    "name": "ipython",
    "version": 3
   },
   "file_extension": ".py",
   "mimetype": "text/x-python",
   "name": "python",
   "nbconvert_exporter": "python",
   "pygments_lexer": "ipython3",
   "version": "3.5.2"
  }
 },
 "nbformat": 4,
 "nbformat_minor": 2
}
